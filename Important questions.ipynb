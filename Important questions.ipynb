{
 "cells": [
  {
   "cell_type": "code",
   "execution_count": 1,
   "id": "3e7fc25c",
   "metadata": {},
   "outputs": [
    {
     "name": "stdout",
     "output_type": "stream",
     "text": [
      "11\n"
     ]
    }
   ],
   "source": [
    "# Area of intersection of two Circles\n",
    "#Given the coordinates of the centers of two circles (X1, Y1) and (X2, Y2) as well as the radii of the respective circles \n",
    "#R1 and R2. Find the floor of the area of their intersection.\n",
    "#Note: Use the value of Pi as 3.14\n",
    "# Python3 code to implement the approach\n",
    "\n",
    "from math import sqrt, acos, floor, sin\n",
    "\n",
    "def intersectionArea(X1, Y1, R1, X2, Y2, R2) :\n",
    "    Pi = 3.14;\n",
    "    d = sqrt(((X2 - X1) * (X2 - X1)) + ((Y2 - Y1) * (Y2 - Y1)));\n",
    "\n",
    "    if (d > R1 + R2) :\n",
    "        ans = 0;\n",
    "        \n",
    "    elif (d <= (R1 - R2) and R1 >= R2) :\n",
    "        ans = floor(Pi * R2 * R2);\n",
    "\n",
    "    elif (d <= (R2 - R1) and R2 >= R1) :\n",
    "        ans = floor(Pi * R1 * R1);\n",
    "\n",
    "    else :\n",
    "        alpha = acos(((R1 * R1) + (d * d) - (R2 * R2)) / (2 * R1 * d)) * 2;\n",
    "        beta = acos(((R2 * R2) + (d * d) - (R1 * R1)) / (2 * R2 * d)) * 2;\n",
    "    \n",
    "        a1 = (0.5 * beta * R2 * R2 ) - (0.5 * R2 * R2 * sin(beta));\n",
    "        a2 = (0.5 * alpha * R1 * R1) - (0.5 * R1 * R1 * sin(alpha));\n",
    "        ans = floor(a1 + a2);\n",
    "\n",
    "    return ans;\n",
    "\n",
    "if __name__ == \"__main__\" :\n",
    "\n",
    "    X1 = 0; Y1 = 0; R1 = 4;\n",
    "    X2 = 6; Y2 = 0; R2 = 4;\n",
    "\n",
    "    print(intersectionArea(4,4,3,2,2,3));"
   ]
  },
  {
   "cell_type": "code",
   "execution_count": null,
   "id": "c4184f45",
   "metadata": {},
   "outputs": [],
   "source": []
  }
 ],
 "metadata": {
  "kernelspec": {
   "display_name": "Python 3 (ipykernel)",
   "language": "python",
   "name": "python3"
  },
  "language_info": {
   "codemirror_mode": {
    "name": "ipython",
    "version": 3
   },
   "file_extension": ".py",
   "mimetype": "text/x-python",
   "name": "python",
   "nbconvert_exporter": "python",
   "pygments_lexer": "ipython3",
   "version": "3.11.2"
  }
 },
 "nbformat": 4,
 "nbformat_minor": 5
}
